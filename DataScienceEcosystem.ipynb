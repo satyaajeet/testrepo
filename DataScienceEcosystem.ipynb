{
 "cells": [
  {
   "cell_type": "markdown",
   "id": "aaba076c-80c7-4370-9c6f-cbd162748e00",
   "metadata": {},
   "source": [
    "# Data Science Tools and Ecosystem"
   ]
  },
  {
   "cell_type": "markdown",
   "id": "cc749cd7-4955-46be-8abd-ff397636580c",
   "metadata": {},
   "source": [
    " In this notebook, Data Science Tools and Ecosystem are summarized."
   ]
  },
  {
   "cell_type": "markdown",
   "id": "3f3b2bfd-88f2-4eb5-8c7a-2b0cc3c3bf7f",
   "metadata": {},
   "source": [
    "**Objectives:**"
   ]
  },
  {
   "cell_type": "markdown",
   "id": "d9f9eed7-82fd-44bb-a1b4-312464f6e9d6",
   "metadata": {},
   "source": [
    "\n",
    "Some of the popular languages that Data Scientists use are:"
   ]
  },
  {
   "cell_type": "markdown",
   "id": "5e36473b-139c-4b64-a9bc-76deedfea0f4",
   "metadata": {},
   "source": [
    "- 'Python'\n",
    "- 'R'\n",
    "- 'Julia'"
   ]
  },
  {
   "cell_type": "markdown",
   "id": "1fb8c30a-3c7c-441c-8bc3-1966b0b1a462",
   "metadata": {},
   "source": [
    "Some of the commonly used libraries used by Data Scientists include:"
   ]
  },
  {
   "cell_type": "code",
   "execution_count": 10,
   "id": "0b8ab283-08db-4034-9cd4-7ad51a6de981",
   "metadata": {},
   "outputs": [
    {
     "data": {
      "text/plain": [
       "['scikit-learn', 'numpy', 'pandas']"
      ]
     },
     "execution_count": 10,
     "metadata": {},
     "output_type": "execute_result"
    }
   ],
   "source": [
    "['scikit-learn','numpy','pandas']"
   ]
  },
  {
   "cell_type": "markdown",
   "id": "bf5524d3-578e-4ca4-9852-3ceaffbff939",
   "metadata": {},
   "source": [
    "|Data Science Tools|\n",
    "-------------------\n",
    "|IDE|\n",
    "|R|\n",
    "|Julia|"
   ]
  },
  {
   "cell_type": "markdown",
   "id": "e89d6abb-5403-43d4-abc6-aa7669bbd01f",
   "metadata": {},
   "source": [
    "### Below are a few examples of evaluating arithmetic expressions in Python"
   ]
  },
  {
   "cell_type": "code",
   "execution_count": 13,
   "id": "2a006f07-3b5c-4c78-a3d1-af1c9decd1f4",
   "metadata": {},
   "outputs": [
    {
     "data": {
      "text/plain": [
       "17"
      ]
     },
     "execution_count": 13,
     "metadata": {},
     "output_type": "execute_result"
    }
   ],
   "source": [
    "#This a simple arithmetic expression to mutiply then add integers\n",
    "(3*4)+5"
   ]
  },
  {
   "cell_type": "code",
   "execution_count": 14,
   "id": "4eddff22-f73f-401b-9ac7-2c4d923f4050",
   "metadata": {},
   "outputs": [
    {
     "data": {
      "text/plain": [
       "3.3333333333333335"
      ]
     },
     "execution_count": 14,
     "metadata": {},
     "output_type": "execute_result"
    }
   ],
   "source": [
    "#This will convert 200 minutes to hours by diving by 60.\n",
    "200/60"
   ]
  },
  {
   "cell_type": "markdown",
   "id": "03dea4de-1416-4643-8ddf-fece4d6b3e8a",
   "metadata": {},
   "source": [
    "## Author\n",
    "Satyajeet"
   ]
  },
  {
   "cell_type": "code",
   "execution_count": null,
   "id": "d1936d03-7b93-47d6-be2a-bb5c303ebf51",
   "metadata": {},
   "outputs": [],
   "source": []
  }
 ],
 "metadata": {
  "kernelspec": {
   "display_name": "Python 3 (ipykernel)",
   "language": "python",
   "name": "python3"
  },
  "language_info": {
   "codemirror_mode": {
    "name": "ipython",
    "version": 3
   },
   "file_extension": ".py",
   "mimetype": "text/x-python",
   "name": "python",
   "nbconvert_exporter": "python",
   "pygments_lexer": "ipython3",
   "version": "3.11.7"
  }
 },
 "nbformat": 4,
 "nbformat_minor": 5
}
